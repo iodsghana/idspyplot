{
 "cells": [
  {
   "cell_type": "markdown",
   "id": "0a700fdf",
   "metadata": {},
   "source": [
    "#### Generate Random Integers"
   ]
  },
  {
   "cell_type": "code",
   "execution_count": 3,
   "id": "4c411f9c",
   "metadata": {},
   "outputs": [
    {
     "name": "stdout",
     "output_type": "stream",
     "text": [
      "Random samples: [61 38 50 91 45 61 30 61 68 94 60 89 93 34 63 59 46 42 22 53]\n"
     ]
    }
   ],
   "source": [
    "import numpy as np\n",
    "\n",
    "# Define the interval\n",
    "interval_start = 18\n",
    "interval_end = 100\n",
    "\n",
    "# Generate 20 random integer samples from the specified interval\n",
    "random_samples = np.random.randint(interval_start, interval_end + 1, 20)\n",
    "\n",
    "print(\"Random samples:\", random_samples)\n"
   ]
  },
  {
   "cell_type": "markdown",
   "id": "74658f4f",
   "metadata": {},
   "source": [
    "#### Generate 20 random values between 18 and 100 using numpy:"
   ]
  },
  {
   "cell_type": "code",
   "execution_count": 2,
   "id": "275f13e6",
   "metadata": {},
   "outputs": [
    {
     "name": "stdout",
     "output_type": "stream",
     "text": [
      "Random samples: [33.557709   45.65644229 68.17646186 94.1058256  23.69967492 29.19587738\n",
      " 61.18842115 32.04650177 55.25757256 18.90734155 34.96624658 31.7946959\n",
      " 90.13975054 88.3609222  92.35813566 45.00516123 46.79775902 34.911776\n",
      " 26.16211036 65.39427666]\n"
     ]
    }
   ],
   "source": [
    "import numpy as np\n",
    "\n",
    "# Define the interval\n",
    "interval_start = 18\n",
    "interval_end = 100\n",
    "\n",
    "# Generate 20 random samples from the specified interval\n",
    "random_samples = np.random.uniform(interval_start, interval_end, 20)\n",
    "\n",
    "print(\"Random samples:\", random_samples)\n"
   ]
  },
  {
   "cell_type": "markdown",
   "id": "d1067d82",
   "metadata": {},
   "source": [
    "#### Generate random samples from a continuous interval (e.g., between 0 and 1) using the numpy library and then plot the resulting uniform distribution using matplotlib."
   ]
  },
  {
   "cell_type": "code",
   "execution_count": 1,
   "id": "6b77ad83",
   "metadata": {},
   "outputs": [
    {
     "data": {
      "image/png": "[encoded data removed]",
      "text/plain": [
       "<Figure size 800x600 with 1 Axes>"
      ]
     },
     "metadata": {},
     "output_type": "display_data"
    }
   ],
   "source": [
    "import numpy as np\n",
    "import matplotlib.pyplot as plt\n",
    "\n",
    "# Number of random samples to generate\n",
    "num_samples = 10000\n",
    "\n",
    "# Define the continuous interval\n",
    "interval_start = 0\n",
    "interval_end = 1\n",
    "\n",
    "# Generate random samples from the continuous interval\n",
    "random_samples = np.random.uniform(interval_start, interval_end, num_samples)\n",
    "\n",
    "# Plotting the resulting uniform distribution\n",
    "plt.figure(figsize=(8, 6))\n",
    "plt.hist(random_samples, bins=50, density=True, color='skyblue', edgecolor='black', alpha=0.7)\n",
    "plt.title('Uniform Distribution')\n",
    "plt.xlabel('Value')\n",
    "plt.ylabel('Frequency')\n",
    "plt.grid(True)\n",
    "plt.show()\n"
   ]
  },
  {
   "cell_type": "markdown",
   "id": "d616fdc7",
   "metadata": {},
   "source": [
    "#### Application of Uniform Distrinution for Monte Carlo Simulation\n",
    "\n",
    "This example demonstrates how the Monte Carlo method can be used for optimization by <br>\n",
    "randomly sampling points in the search space and selecting the best one found."
   ]
  },
  {
   "cell_type": "code",
   "execution_count": 4,
   "id": "ae33549a",
   "metadata": {},
   "outputs": [
    {
     "name": "stdout",
     "output_type": "stream",
     "text": [
      "Minimum value found: 2.4606883328054926e-07\n",
      "Corresponding x: 0.000496053256496265\n"
     ]
    }
   ],
   "source": [
    "import numpy as np\n",
    "\n",
    "# Define the function to optimize\n",
    "def f(x):\n",
    "    return x**2\n",
    "\n",
    "# Define the limits of the interval\n",
    "interval_start = 0\n",
    "interval_end = 1\n",
    "\n",
    "# Number of random samples\n",
    "num_samples = 1000\n",
    "\n",
    "# Initialize variables to store the minimum value and corresponding x\n",
    "min_value = float('inf')\n",
    "min_x = None\n",
    "\n",
    "# Perform Monte Carlo random sampling\n",
    "for _ in range(num_samples):\n",
    "    # Generate a random sample within the interval\n",
    "    x = np.random.uniform(interval_start, interval_end)\n",
    "    # Evaluate the function at the sampled point\n",
    "    fx = f(x)\n",
    "    # Update the minimum value and corresponding x if necessary\n",
    "    if fx < min_value:\n",
    "        min_value = fx\n",
    "        min_x = x\n",
    "\n",
    "print(\"Minimum value found:\", min_value)\n",
    "print(\"Corresponding x:\", min_x)\n"
   ]
  },
  {
   "cell_type": "markdown",
   "id": "ff1db6ec",
   "metadata": {},
   "source": [
    "### Handling categorical variables with temporal dynamics"
   ]
  },
  {
   "cell_type": "code",
   "execution_count": 1,
   "id": "5c6098a3",
   "metadata": {},
   "outputs": [
    {
     "name": "stdout",
     "output_type": "stream",
     "text": [
      "Distribution of Product Categories Over Different Months:\n",
      "Product Category  Books  Clothing  Electronics\n",
      "Purchase Month                                \n",
      "April                33        32           31\n",
      "August               35        31           25\n",
      "December             25        31           33\n",
      "February             31        29           34\n",
      "January              22        34           30\n",
      "July                 17        28           21\n",
      "June                 31        30           17\n",
      "March                32        25           27\n",
      "May                  28        17           32\n",
      "November             27        29           28\n",
      "October              18        25           32\n",
      "September            29        24           27\n"
     ]
    }
   ],
   "source": [
    "import pandas as pd\n",
    "import numpy as np\n",
    "\n",
    "# Generate example data\n",
    "np.random.seed(0)\n",
    "num_customers = 1000\n",
    "customers = ['Customer{}'.format(i) for i in range(1, num_customers + 1)]\n",
    "product_categories = np.random.choice(['Electronics', 'Clothing', 'Books'], size=num_customers)\n",
    "months = np.random.choice(['January', 'February', 'March', 'April', 'May', 'June', 'July', 'August', 'September', 'October', 'November', 'December'], size=num_customers)\n",
    "\n",
    "# Create DataFrame\n",
    "data = pd.DataFrame({\n",
    "    'Customer ID': customers,\n",
    "    'Product Category': product_categories,\n",
    "    'Purchase Month': months\n",
    "})\n",
    "\n",
    "# Group by \"Purchase Month\" and \"Product Category\", then count the occurrences\n",
    "category_distribution = data.groupby(['Purchase Month', 'Product Category']).size().unstack(fill_value=0)\n",
    "\n",
    "# Display the distribution of product categories over different months\n",
    "print(\"Distribution of Product Categories Over Different Months:\")\n",
    "print(category_distribution)\n"
   ]
  },
  {
   "cell_type": "markdown",
   "id": "9f424a9b",
   "metadata": {},
   "source": [
    "### Hierarchical Relationships: Dealing with categorical variables that have hierarchical relationships, <br> where the categories can be grouped into broader or narrower levels.\n",
    "\n",
    "Let's create some random made-up data to illustrate hierarchical relationships within categorical variables. Suppose we're dealing with a dataset related to employee positions within a company. Each employee's position can be categorized into hierarchical levels such as \"Executive\", \"Manager\", \"Supervisor\", and \"Staff\"."
   ]
  },
  {
   "cell_type": "markdown",
   "id": "071ba7e2",
   "metadata": {},
   "source": [
    "<table>\n",
    "  <tr>\n",
    "    <th>Employee ID</th>\n",
    "    <th>Position</th>\n",
    "  </tr>\n",
    "  <tr>\n",
    "    <td>001</td>\n",
    "    <td>Executive</td>\n",
    "  </tr>\n",
    "  <tr>\n",
    "    <td>002</td>\n",
    "    <td>Manager</td>\n",
    "  </tr>\n",
    "  <tr>\n",
    "    <td>003</td>\n",
    "    <td>Supervisor</td>\n",
    "  </tr>\n",
    "  <tr>\n",
    "    <td>004</td>\n",
    "    <td>Manager</td>\n",
    "  </tr>\n",
    "  <tr>\n",
    "    <td>005</td>\n",
    "    <td>Staff</td>\n",
    "  </tr>\n",
    "  <tr>\n",
    "    <td>...</td>\n",
    "    <td>...</td>\n",
    " \n",
    "  </tr>\n",
    "</table>\n",
    "\n",
    "\n",
    "Here's how we can generate some random made-up data to illustrate this example:"
   ]
  },
  {
   "cell_type": "code",
   "execution_count": 2,
   "id": "82f2d8cf",
   "metadata": {},
   "outputs": [
    {
     "name": "stdout",
     "output_type": "stream",
     "text": [
      "  Employee ID   Position  Broad Category\n",
      "0   Employee1  Executive      Management\n",
      "1   Employee2      Staff  Non-Management\n",
      "2   Employee3    Manager      Management\n",
      "3   Employee4  Executive      Management\n",
      "4   Employee5      Staff  Non-Management\n"
     ]
    }
   ],
   "source": [
    "import pandas as pd\n",
    "import numpy as np\n",
    "\n",
    "# Define hierarchical relationships\n",
    "hierarchical_levels = {\n",
    "    'Management': ['Executive', 'Manager'],\n",
    "    'Non-Management': ['Supervisor', 'Staff']\n",
    "}\n",
    "\n",
    "# Generate example data\n",
    "np.random.seed(0)\n",
    "num_employees = 100\n",
    "employees = ['Employee{}'.format(i) for i in range(1, num_employees + 1)]\n",
    "positions = np.random.choice(['Executive', 'Manager', 'Supervisor', 'Staff'], size=num_employees)\n",
    "\n",
    "# Map positions to broader categories\n",
    "broad_categories = []\n",
    "for position in positions:\n",
    "    for category, subcategories in hierarchical_levels.items():\n",
    "        if position in subcategories:\n",
    "            broad_categories.append(category)\n",
    "            break\n",
    "\n",
    "# Create DataFrame\n",
    "data = pd.DataFrame({\n",
    "    'Employee ID': employees,\n",
    "    'Position': positions,\n",
    "    'Broad Category': broad_categories\n",
    "})\n",
    "\n",
    "# Display the DataFrame\n",
    "print(data.head())\n"
   ]
  },
  {
   "cell_type": "markdown",
   "id": "87ea1ba4",
   "metadata": {},
   "source": [
    "### Domain-specific Considerations: \n",
    "\n",
    "Accounting for domain-specific knowledge or constraints when preprocessing categorical data, such as industry regulations or business rules."
   ]
  },
  {
   "cell_type": "code",
   "execution_count": 3,
   "id": "cd5e8406",
   "metadata": {},
   "outputs": [
    {
     "name": "stdout",
     "output_type": "stream",
     "text": [
      "    Customer      Product  Quantity\n",
      "0  Customer1  Electronics         2\n",
      "1  Customer2     Clothing         2\n",
      "2  Customer3  Electronics         2\n",
      "3  Customer4     Clothing         2\n",
      "4  Customer5     Clothing         1\n"
     ]
    }
   ],
   "source": [
    "import pandas as pd\n",
    "import numpy as np\n",
    "\n",
    "# Generate example data\n",
    "np.random.seed(0)\n",
    "num_transactions = 1000\n",
    "customers = ['Customer{}'.format(i) for i in range(1, num_transactions + 1)]\n",
    "products = np.random.choice(['Electronics', 'Clothing', 'Books'], size=num_transactions)\n",
    "quantities = np.random.randint(1, 5, size=num_transactions)  # Random quantities purchased\n",
    "\n",
    "# Consider domain-specific constraints\n",
    "# Ensure that customers cannot purchase more than 3 electronics in a single transaction\n",
    "for i, product in enumerate(products):\n",
    "    if product == 'Electronics' and quantities[i] > 3:\n",
    "        quantities[i] = 3\n",
    "\n",
    "# Create DataFrame\n",
    "data = pd.DataFrame({\n",
    "    'Customer': customers,\n",
    "    'Product': products,\n",
    "    'Quantity': quantities\n",
    "})\n",
    "\n",
    "# Display the DataFrame\n",
    "print(data.head())\n"
   ]
  },
  {
   "cell_type": "markdown",
   "id": "1a694d1b",
   "metadata": {},
   "source": [
    "### Encoding Stability: \n",
    "\n",
    "Ensuring encoding stability when deploying models in production environments, <br> where new categories may emerge or the distribution of existing categories may change over time.\n",
    "\n",
    "Encoding stability is crucial in data science projects, especially when deploying models in production environments where the distribution of categories may change over time. Let's generate some random data to illustrate this concept:\n",
    "\n",
    "Suppose we're working on a customer churn prediction project for a telecommunications company. We have a dataset containing information about customers, including their demographics, usage patterns, and services subscribed. One of the categorical variables in the dataset is \"Internet Service Type\" (e.g., DSL, Fiber optic, No internet service).\n",
    "\n",
    "Here's how we can generate random data to represent this scenario:"
   ]
  },
  {
   "cell_type": "code",
   "execution_count": 4,
   "id": "405164ee",
   "metadata": {},
   "outputs": [
    {
     "name": "stdout",
     "output_type": "stream",
     "text": [
      "  Customer ID Internet Service Type\n",
      "0   Customer1                   DSL\n",
      "1   Customer2           Fiber optic\n",
      "2   Customer3                   DSL\n",
      "3   Customer4             Satellite\n",
      "4   Customer5             Satellite\n"
     ]
    }
   ],
   "source": [
    "import pandas as pd\n",
    "import numpy as np\n",
    "\n",
    "# Generate example data\n",
    "np.random.seed(0)\n",
    "num_customers = 1000\n",
    "customer_ids = ['Customer{}'.format(i) for i in range(1, num_customers + 1)]\n",
    "internet_service_types = np.random.choice(['DSL', 'Fiber optic', 'No internet service'], size=num_customers)\n",
    "\n",
    "# Simulate encoding stability over time\n",
    "# In this example, we'll introduce a new category ('Satellite') that emerges over time\n",
    "# We'll simulate this by randomly changing 5% of the existing 'Fiber optic' customers to 'Satellite'\n",
    "change_indices = np.random.choice(np.where(internet_service_types == 'Fiber optic')[0], size=int(0.05 * num_customers), replace=False)\n",
    "internet_service_types[change_indices] = 'Satellite'\n",
    "\n",
    "# Create DataFrame\n",
    "data = pd.DataFrame({\n",
    "    'Customer ID': customer_ids,\n",
    "    'Internet Service Type': internet_service_types\n",
    "})\n",
    "\n",
    "# Display the DataFrame\n",
    "print(data.head())\n"
   ]
  },
  {
   "cell_type": "markdown",
   "id": "7eb7ef6f",
   "metadata": {},
   "source": [
    "In this example, we generate random data for customer IDs and internet service types. To simulate encoding stability over time, we introduce a new category ('Satellite') that emerges over time. We randomly change 5% of the existing 'Fiber optic' customers to 'Satellite' to reflect this change in distribution.\n",
    "\n",
    "This illustrates how encoding stability is important in data science projects, as models deployed in production environments must be able to handle new categories that may emerge or changes in the distribution of existing categories over time. By ensuring encoding stability, we can build robust models that maintain their performance even as the data evolves."
   ]
  },
  {
   "cell_type": "markdown",
   "id": "7865cea9",
   "metadata": {},
   "source": [
    "### Dimensionality Reduction: \n",
    "Using dimensionality reduction techniques like feature selection or <br> feature extraction to reduce the number of categorical variables or combine them into fewer meaningful features.\n",
    "\n",
    "Let's generate some random data to illustrate dimensionality reduction techniques in the context of a customer segmentation project for a retail company. We'll create a dataset containing information about customers, including demographics and purchasing behavior across different product categories.\n",
    "\n",
    "In this example, we'll use feature extraction to reduce the dimensionality of the dataset by combining multiple categorical variables into fewer meaningful features.\n",
    "\n",
    "Here's how we can generate the random data:"
   ]
  },
  {
   "cell_type": "code",
   "execution_count": 5,
   "id": "8e8a1c62",
   "metadata": {},
   "outputs": [
    {
     "name": "stdout",
     "output_type": "stream",
     "text": [
      "   Age Gender Income Level  Total Purchases\n",
      "0   62   Male          Low                2\n",
      "1   65   Male       Medium                2\n",
      "2   18   Male          Low                1\n",
      "3   21   Male         High                2\n",
      "4   21   Male         High                1\n"
     ]
    }
   ],
   "source": [
    "import pandas as pd\n",
    "import numpy as np\n",
    "\n",
    "# Generate example data\n",
    "np.random.seed(0)\n",
    "num_customers = 1000\n",
    "\n",
    "# Demographic variables\n",
    "ages = np.random.randint(18, 70, size=num_customers)\n",
    "genders = np.random.choice(['Male', 'Female'], size=num_customers)\n",
    "income_levels = np.random.choice(['Low', 'Medium', 'High'], size=num_customers)\n",
    "\n",
    "# Purchasing behavior across product categories\n",
    "electronics_purchases = np.random.randint(0, 2, size=num_customers)\n",
    "clothing_purchases = np.random.randint(0, 2, size=num_customers)\n",
    "books_purchases = np.random.randint(0, 2, size=num_customers)\n",
    "\n",
    "# Create DataFrame\n",
    "data = pd.DataFrame({\n",
    "    'Age': ages,\n",
    "    'Gender': genders,\n",
    "    'Income Level': income_levels,\n",
    "    'Electronics Purchases': electronics_purchases,\n",
    "    'Clothing Purchases': clothing_purchases,\n",
    "    'Books Purchases': books_purchases\n",
    "})\n",
    "\n",
    "# Feature extraction: Combine purchasing behavior across product categories\n",
    "data['Total Purchases'] = data['Electronics Purchases'] + data['Clothing Purchases'] + data['Books Purchases']\n",
    "\n",
    "# Drop individual purchasing behavior columns\n",
    "data = data.drop(['Electronics Purchases', 'Clothing Purchases', 'Books Purchases'], axis=1)\n",
    "\n",
    "# Display the DataFrame\n",
    "print(data.head())\n"
   ]
  },
  {
   "cell_type": "markdown",
   "id": "36fce2f0",
   "metadata": {},
   "source": [
    "In this example, we generate random data for demographic variables (age, gender, income level) and purchasing behavior across different product categories (electronics, clothing, books). We then use feature extraction to combine the individual purchasing behavior columns into a single feature representing the total number of purchases across all product categories.\n",
    "\n",
    "This illustrates how dimensionality reduction techniques like feature extraction can be used to reduce the number of categorical variables and create fewer, more meaningful features, which can help improve model performance and interpretability in data science projects."
   ]
  },
  {
   "cell_type": "markdown",
   "id": "7450a903",
   "metadata": {},
   "source": [
    "### Multi-Class Classification: \n",
    "\n",
    "Handling multi-class classification problems with multiple categorical target variables, each with its own set of categories.\n",
    "\n",
    "Suppose we are working on a project to classify customer feedback into different sentiment categories for multiple products. The products are electronics, clothing, and books, and the sentiment categories are positive, neutral, and negative.\n",
    "\n",
    "Here's how we can generate random data to represent this scenario:"
   ]
  },
  {
   "cell_type": "code",
   "execution_count": 8,
   "id": "67e4a273",
   "metadata": {},
   "outputs": [
    {
     "name": "stdout",
     "output_type": "stream",
     "text": [
      "    Customer      Product Sentiment\n",
      "0  Customer1  Electronics   Neutral\n",
      "1  Customer2     Clothing   Neutral\n",
      "2  Customer3  Electronics   Neutral\n",
      "3  Customer4     Clothing   Neutral\n",
      "4  Customer5     Clothing  Positive\n"
     ]
    }
   ],
   "source": [
    "import pandas as pd\n",
    "import numpy as np\n",
    "\n",
    "# Generate example data\n",
    "np.random.seed(0)\n",
    "num_feedbacks = 1000\n",
    "\n",
    "# Customer IDs\n",
    "customers = ['Customer{}'.format(i) for i in range(1, num_feedbacks + 1)]\n",
    "\n",
    "# Product categories\n",
    "products = np.random.choice(['Electronics', 'Clothing', 'Books'], size=num_feedbacks)\n",
    "\n",
    "# Sentiment categories\n",
    "sentiments = np.random.choice(['Positive', 'Neutral', 'Negative'], size=num_feedbacks)\n",
    "\n",
    "# Create DataFrame\n",
    "data = pd.DataFrame({\n",
    "    'Customer': customers,\n",
    "    'Product': products,\n",
    "    'Sentiment': sentiments\n",
    "})\n",
    "\n",
    "# Display the DataFrame\n",
    "print(data.head())\n"
   ]
  },
  {
   "cell_type": "markdown",
   "id": "51ce322b",
   "metadata": {},
   "source": [
    "n this example, we generate random data for customer feedback, where each feedback includes the customer's ID, the product category, and the sentiment category. The sentiment categories are positive, neutral, and negative, and each feedback is associated with one of these categories for each product.\n",
    "\n",
    "This illustrates how data for a multi-class classification problem with multiple categorical target variables can be generated. In a real-world data science project, the task would be to build a model that accurately classifies customer feedback into the appropriate sentiment category for each product."
   ]
  },
  {
   "cell_type": "code",
   "execution_count": null,
   "id": "37896d29",
   "metadata": {},
   "outputs": [],
   "source": []
  }
 ],
 "metadata": {
  "kernelspec": {
   "display_name": "Python 3 (ipykernel)",
   "language": "python",
   "name": "python3"
  },
  "language_info": {
   "codemirror_mode": {
    "name": "ipython",
    "version": 3
   },
   "file_extension": ".py",
   "mimetype": "text/x-python",
   "name": "python",
   "nbconvert_exporter": "python",
   "pygments_lexer": "ipython3",
   "version": "3.11.4"
  }
 },
 "nbformat": 4,
 "nbformat_minor": 5
}
